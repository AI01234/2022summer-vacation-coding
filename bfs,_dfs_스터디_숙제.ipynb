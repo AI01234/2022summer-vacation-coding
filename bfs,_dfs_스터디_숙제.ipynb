{
  "nbformat": 4,
  "nbformat_minor": 0,
  "metadata": {
    "colab": {
      "name": "bfs, dfs 스터디 숙제.ipynb",
      "provenance": [],
      "collapsed_sections": []
    },
    "kernelspec": {
      "name": "python3",
      "display_name": "Python 3"
    },
    "language_info": {
      "name": "python"
    }
  },
  "cells": [
    {
      "cell_type": "markdown",
      "source": [
        "# dfs와 bfs"
      ],
      "metadata": {
        "id": "4qTDmKuyWrWU"
      }
    },
    {
      "cell_type": "markdown",
      "source": [
        "graph 구현 방식이 정확하게 이해되지는 않음. "
      ],
      "metadata": {
        "id": "MuOK5UU-eDc2"
      }
    },
    {
      "cell_type": "code",
      "execution_count": null,
      "metadata": {
        "colab": {
          "base_uri": "https://localhost:8080/"
        },
        "id": "ksBU8hyNWltO",
        "outputId": "5092811f-c64d-41c2-c228-c3025be51bb3"
      },
      "outputs": [
        {
          "name": "stdout",
          "output_type": "stream",
          "text": [
            "4 5 1\n",
            "1 2\n",
            "1 3\n",
            "1 4\n",
            "2 4\n",
            "3 4\n"
          ]
        }
      ],
      "source": [
        "import sys\n",
        "from collections import deque\n",
        "input=sys.stdin.readline\n",
        "\n",
        "n,m,start=map(int,input().split())\n",
        "visited=[False]*(n+1)\n",
        "\n",
        "graph=[[] for _ in range(n+1)]\n",
        "\n",
        "\n",
        "for _ in range(m):\n",
        "    q,w=map(int,input().split())\n",
        "    graph[q].append(w)\n",
        "    graph[w].append(q)\n",
        "\n",
        "for i in range(len(graph)):\n",
        "    graph[i].sort()\n",
        "\n",
        "def dfs(start):\n",
        "    print(start,end=' ')\n",
        "    visited[start]=True\n",
        "    for i in graph[start]:\n",
        "        if not visited[i]:\n",
        "            dfs(i) #호출을 통해 하나씩 처리하면서 깊게 들어감\n",
        "            #visited[i]=True\n",
        "\n",
        "def bfs(start):\n",
        "    q=deque([start])\n",
        "    visited[start]=True\n",
        "    while q:\n",
        "        new=q.popleft()\n",
        "        print(new,end=' ')\n",
        "        for i in graph[new]:\n",
        "            if not visited[i]:\n",
        "                q.append(i) #인접한 거 다 넣음\n",
        "                visited[i]=True\n",
        "dfs(start)\n",
        "visited=[False]*(n+1)\n",
        "print()\n",
        "bfs(start)"
      ]
    },
    {
      "cell_type": "markdown",
      "source": [
        "#전투"
      ],
      "metadata": {
        "id": "z3iNHPq9jPvq"
      }
    },
    {
      "cell_type": "code",
      "source": [
        "import sys\n",
        "from collections import deque\n",
        "input = sys.stdin.readline\n",
        "\n",
        "dx = [1, 0, -1, 0]\n",
        "dy = [0, 1, 0, -1]\n",
        "\n",
        "n, m = map(int, input().split())\n",
        "graph = [list(input()) for _ in range(m)]\n",
        "\n",
        "def dfs(x, y, std, count):   \n",
        "    graph[x][y] = 'visited'\n",
        "    for i in range(4):\n",
        "        nx, ny = x + dx[i], y + dy[i]\n",
        "        if 0 <= nx < m and 0 <= ny < n:\n",
        "            if graph[nx][ny] != 'visited' and graph[nx][ny] == std:\n",
        "                count = dfs(nx, ny, std, count + 1)\n",
        "    return count\n",
        "\n",
        "white, blue = 0, 0\n",
        "for i in range(m):\n",
        "    for j in range(n):\n",
        "        if graph[i][j] != 'visited':\n",
        "            if graph[i][j] == 'W':\n",
        "                white += dfs(i, j, 'W', 1)**2\n",
        "            else:\n",
        "               blue += dfs(i, j, 'B', 1)**2\n",
        "                \n",
        "print(white, blue)"
      ],
      "metadata": {
        "id": "-ZItjIF6n1S2"
      },
      "execution_count": null,
      "outputs": []
    },
    {
      "cell_type": "markdown",
      "source": [
        "#미로탐색"
      ],
      "metadata": {
        "id": "CkhcDkQqo8Hi"
      }
    },
    {
      "cell_type": "markdown",
      "source": [
        "메모리초과 확인필요"
      ],
      "metadata": {
        "id": "ABd9lfrZr1VO"
      }
    },
    {
      "cell_type": "code",
      "source": [
        "from collections import deque\n",
        "n,m=map(int, input().split())\n",
        "\n",
        "graph=[]\n",
        "for i in range(n):\n",
        "  graph.append(list(map(int, input())))\n",
        "\n",
        "dx=[-1,1,0,0]\n",
        "dy=[0,0,-1,1]\n",
        "\n",
        "def bfs(x,y):\n",
        "  queue=deque()\n",
        "  queue.append((x,y))\n",
        "\n",
        "  while queue:\n",
        "    x,y=queue.popleft()\n",
        "\n",
        "    for i in range(4):\n",
        "      nx=x+dx[i]\n",
        "      ny=y+dy[i]\n",
        "\n",
        "      if nx<0 or ny<0 or nx>=n or ny>=m:\n",
        "        continue\n",
        "      if graph[nx][ny]==0:\n",
        "        continue\n",
        "      if graph[nx][ny]==1:\n",
        "        graph[nx][ny]==graph[x][y]+1\n",
        "        queue.append((nx,ny))\n",
        "  return graph[n-1][m-1]\n",
        "\n",
        "print(bfs(0,0))\n",
        "                   "
      ],
      "metadata": {
        "id": "DSd2PGVjo7BL"
      },
      "execution_count": null,
      "outputs": []
    },
    {
      "cell_type": "markdown",
      "source": [
        "#음식물피하기\n",
        "못 풀음.."
      ],
      "metadata": {
        "id": "MM1gMOIjr31Z"
      }
    },
    {
      "cell_type": "code",
      "source": [
        "n,m,k=map(int, input().split())\n",
        "graph=[]\n",
        "global count\n",
        "for i in range(n):\n",
        "  x,y= graph.append(list(map(int, input())))\n",
        "\n",
        "def dfs(x,y):\n",
        "  if x<=-1 or x>=n or y<=-1 or y>=m:\n",
        "    return False\n",
        "  #음식물이 없으므로\n",
        "  if graph[x][y]==0:\n",
        "    return False\n",
        "  #음식물이 있을 때\n",
        "  graph[x][y] = 0\n",
        "    count += 1\n",
        "    graph[x][y]=1\n",
        "    dfs(x-1,y)\n",
        "    dfs(x, y-1)\n",
        "    dfs(x+1, y)\n",
        "    dfs(x, y+1)\n",
        "    return True\n",
        "  #return False\n",
        "\n",
        "result=0\n",
        "for i in range(n):\n",
        "  for j in range(m):\n",
        "    if dfs(i,j)==True:\n",
        "      result+=1\n",
        "print(result)"
      ],
      "metadata": {
        "id": "03_Ft2e_r6H1"
      },
      "execution_count": null,
      "outputs": []
    },
    {
      "cell_type": "markdown",
      "source": [
        "# 바이러스"
      ],
      "metadata": {
        "id": "ba_3gpeVdC9P"
      }
    },
    {
      "cell_type": "code",
      "source": [
        "n=int(input())\n",
        "m=int(input())\n",
        "visited=[False]*(n+1)\n",
        "\n",
        "graph = [[]*n for _ in range(n+1)]\n",
        "for _ in range(m):\n",
        "    a,b = map(int,input().split())\n",
        "    graph[a].append(b)\n",
        "    graph[b].append(a)\n",
        "\n",
        "cnt=0\n",
        "def dfs(start):\n",
        "    global cnt\n",
        "    visited[start]=True\n",
        "    for i in graph[start]:\n",
        "        if not visited[i]:\n",
        "            dfs(i)\n",
        "            cnt+=1\n",
        "dfs(1)\n",
        "print(cnt)"
      ],
      "metadata": {
        "colab": {
          "base_uri": "https://localhost:8080/"
        },
        "id": "E6rEphnidFhS",
        "outputId": "fa334e91-77dc-4bc6-b731-8d6fc18531ff"
      },
      "execution_count": 2,
      "outputs": [
        {
          "output_type": "stream",
          "name": "stdout",
          "text": [
            "4\n",
            "5\n",
            "1 2\n",
            "1 3\n",
            "1 4\n",
            "2 4\n",
            "2 3\n",
            "3\n"
          ]
        }
      ]
    },
    {
      "cell_type": "code",
      "source": [
        ""
      ],
      "metadata": {
        "id": "4cTsii2QfiW-"
      },
      "execution_count": 2,
      "outputs": []
    }
  ]
}