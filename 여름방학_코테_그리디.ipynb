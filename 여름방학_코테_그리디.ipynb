{
  "nbformat": 4,
  "nbformat_minor": 0,
  "metadata": {
    "colab": {
      "name": "여름방학 코테 그리디",
      "provenance": [],
      "collapsed_sections": []
    },
    "kernelspec": {
      "name": "python3",
      "display_name": "Python 3"
    },
    "language_info": {
      "name": "python"
    }
  },
  "cells": [
    {
      "cell_type": "markdown",
      "source": [
        "# 백준 coin0"
      ],
      "metadata": {
        "id": "zcmNzpkfxMSz"
      }
    },
    {
      "cell_type": "code",
      "execution_count": null,
      "metadata": {
        "colab": {
          "base_uri": "https://localhost:8080/"
        },
        "id": "qWJY8bPgxFNH",
        "outputId": "01bef788-879c-4daf-f897-0c644c9680bb"
      },
      "outputs": [
        {
          "output_type": "stream",
          "name": "stdout",
          "text": [
            "6 2560\n",
            "5000\n",
            "1000\n",
            "500\n",
            "50\n",
            "10\n",
            "5\n",
            "5\n"
          ]
        }
      ],
      "source": [
        "n,k=map(int, input().split())\n",
        "Ai=list()\n",
        "for _ in range(n):\n",
        "  Ai.append(int(input()))\n",
        "count=0\n",
        "Ai.sort(reverse=True)#내림차순\n",
        "for coin in Ai:\n",
        "   count+=k//coin\n",
        "   k%=coin\n",
        "print(count)"
      ]
    },
    {
      "cell_type": "markdown",
      "source": [
        "colab에선 문제 없는데 백준으로는 틀렸다고 나옴,원인 찾기<br>\n",
        "백준에서는 n번째줄까지 받으라고 했는데 처음에 split()기준으로 받게 list를 만들어서 오류를 내뱉었음"
      ],
      "metadata": {
        "id": "fY35pri-17c2"
      }
    },
    {
      "cell_type": "markdown",
      "source": [
        "# ATM"
      ],
      "metadata": {
        "id": "1mfhLr5A2Hhy"
      }
    },
    {
      "cell_type": "code",
      "source": [
        "n=int(input())\n",
        "times=list(map(int, input().split()))\n",
        "times.sort()#시간 오름차순 정렬\n",
        "sum=0#시간 합\n",
        "for time in times:\n",
        "  sum+=time*n\n",
        "  n-=1\n",
        "print(sum)"
      ],
      "metadata": {
        "id": "lkx_rK2n2KqC"
      },
      "execution_count": null,
      "outputs": []
    },
    {
      "cell_type": "markdown",
      "source": [
        "# Conference room assignment백준 1931"
      ],
      "metadata": {
        "id": "VMGqkC3B6Qr7"
      }
    },
    {
      "cell_type": "code",
      "source": [
        "N = int(input())\n",
        "time = []\n",
        "\n",
        "for _ in range(N):\n",
        "  start, end = map(int, input().split())\n",
        "  time.append([start, end])\n",
        "\n",
        "time = sorted(time, key=lambda a: a[0]) # 시작 시간을 기준으로 오름차순\n",
        "time = sorted(time, key=lambda a: a[1]) # 끝나는 시간을 기준으로 다시 오름차순\n",
        "\n",
        "last = 0 # 회의의 마지막 시간을 저장할 변수\n",
        "conut = 0 # 회의 개수를 저장할 변수\n",
        "\n",
        "for i, j in time:\n",
        "  if i >= last: # 시작시간이 회의의 마지막 시간보다 크거나 같을경우\n",
        "    conut += 1\n",
        "    last = j\n",
        "\n",
        "print(conut)"
      ],
      "metadata": {
        "colab": {
          "base_uri": "https://localhost:8080/"
        },
        "id": "zRyRZuUE3jFS",
        "outputId": "33a4bf3e-8da8-4d98-af84-9b7f00e3697b"
      },
      "execution_count": null,
      "outputs": [
        {
          "output_type": "stream",
          "name": "stdout",
          "text": [
            "7\n",
            "1 0\n",
            "0 2\n",
            "1 3\n",
            "4 6\n",
            "2 5\n",
            "3 4\n",
            "4 5\n",
            "4\n"
          ]
        }
      ]
    },
    {
      "cell_type": "markdown",
      "source": [
        "문제를 푸는 아이디어는 알지만 구현에서 어려움을 겪음\n",
        "1. range(N)을 쓰지 않아 loop가 잘 안돌아감\n",
        "2. start,end를 어떻게 정렬시킬지 감이 안 잡혔음. 한줄함수인 lambda function으로 정렬하는 방식을 잘 기억해야한다. \n",
        "3. 적재적소에 어떤 데이터타입을 쓸지 알아야함. 특징만 아는게 아니라 구현할 수 있을 정도의 연습이 필요해 보임. "
      ],
      "metadata": {
        "id": "HvzgbU7YBBT-"
      }
    },
    {
      "cell_type": "markdown",
      "source": [
        "#Exam Director"
      ],
      "metadata": {
        "id": "7UFXVu9nNpLm"
      }
    },
    {
      "cell_type": "markdown",
      "source": [
        "colab으로는 문제가 없는데 백준에서는 런타임 에러가 나타남. 확인해볼 필요가 있음."
      ],
      "metadata": {
        "id": "yk7XJkECW-vC"
      }
    },
    {
      "cell_type": "code",
      "source": [
        "n=int(input()) #시험장 수\n",
        "Ai=[]\n",
        "count=0\n",
        "for _ in range(n):\n",
        "  Ai.append(int(input()))\n",
        "b,c=map(int, input().split())\n",
        "for i in range(n):\n",
        "  for j in range(max(Ai)):\n",
        "    if (b+c*j)>=Ai[i] and ((b+c*j)-Ai[i])<c:\n",
        "      count+=(1+j)\n",
        "print(count)\n"
      ],
      "metadata": {
        "id": "O_4Ua1gb-9OB",
        "colab": {
          "base_uri": "https://localhost:8080/"
        },
        "outputId": "42fcb8ec-1d78-4346-ac76-c343cbf26ba5"
      },
      "execution_count": null,
      "outputs": [
        {
          "output_type": "stream",
          "name": "stdout",
          "text": [
            "3\n",
            "3\n",
            "4\n",
            "5\n",
            "2 2\n",
            "7\n"
          ]
        }
      ]
    },
    {
      "cell_type": "markdown",
      "source": [
        "답지"
      ],
      "metadata": {
        "id": "lfxdVdAfXV7W"
      }
    },
    {
      "cell_type": "code",
      "source": [
        "n = int(input())\n",
        "\n",
        "a = list(map(int, input().split()))\n",
        "\n",
        "b, c = map(int, input().split())\n",
        "\n",
        "result = 0\n",
        "\n",
        "\n",
        "# 2. 계산\n",
        "for student in a:\n",
        "    student = student - b\n",
        "    result += 1\n",
        "\n",
        "    if student > 0:\n",
        "        result += student // c\n",
        "\n",
        "        if student % c > 0:\n",
        "            result += 1\n",
        "\n",
        "\n",
        "print(result)"
      ],
      "metadata": {
        "id": "saq2YSQaXXXI"
      },
      "execution_count": null,
      "outputs": []
    },
    {
      "cell_type": "markdown",
      "source": [
        "#30"
      ],
      "metadata": {
        "id": "R-iSZYnpXYKT"
      }
    },
    {
      "cell_type": "markdown",
      "source": [
        "1차 풀이"
      ],
      "metadata": {
        "id": "ptNLlh9P1ZYM"
      }
    },
    {
      "cell_type": "code",
      "source": [
        "#n=input()\n",
        "#number=[]\n",
        "#for i in (n):\n",
        " # number.append(i)\n",
        "  #print(number)\n",
        "\n",
        "#if '0' in number and sum(int(number))%3==0:#문제점:리스트전체를 int 형태로 바꾸는 것은 불가능. 리스트의 각 원소를 받아와서 바꾸는 것은 가능하다. \n",
        "  #n=sorted(n,reverse=True)\n",
        "  #print(n)\n",
        "#else:\n",
        " # print(-1) "
      ],
      "metadata": {
        "id": "Rb7VBAKzXb0C"
      },
      "execution_count": null,
      "outputs": []
    },
    {
      "cell_type": "markdown",
      "source": [
        "2차풀이"
      ],
      "metadata": {
        "id": "SneKqQEA26cz"
      }
    },
    {
      "cell_type": "code",
      "source": [
        "n=input()\n",
        "number=[]\n",
        "for i in (n):\n",
        "  number.append(i)\n",
        "sum=0\n",
        "for i in range(len(n)):\n",
        "        sum += int(n[i])\n",
        "if '0' in number and sum%3==0:\n",
        "  n=sorted(n,reverse=True)\n",
        "  answer=\"\".join(n)\n",
        "  print(answer)\n",
        "else:\n",
        "  print(-1) "
      ],
      "metadata": {
        "colab": {
          "base_uri": "https://localhost:8080/"
        },
        "id": "b8xeuDz71mfl",
        "outputId": "9de196d1-7455-4100-d4af-71bf21a919e8"
      },
      "execution_count": null,
      "outputs": [
        {
          "output_type": "stream",
          "name": "stdout",
          "text": [
            "9133805\n",
            "-1\n"
          ]
        }
      ]
    },
    {
      "cell_type": "markdown",
      "source": [
        "개선점: \n",
        "1. list전체를 int형태로 저장하는 것은 불가능하므로 인덱스 기능을 이용해야 한다는 사실을 기억하자. \n",
        "2. reverse True기능을 이용하면 오름차순으로 정렬된다는 것을 까먹지 말자.\n",
        "3. join함수에 대해서 더 공부하자. "
      ],
      "metadata": {
        "id": "tg_4VaHF28r1"
      }
    },
    {
      "cell_type": "markdown",
      "source": [
        "답지"
      ],
      "metadata": {
        "id": "A1uXuiV93rll"
      }
    },
    {
      "cell_type": "code",
      "source": [
        "# 10610번\n",
        "\n",
        "n = input()\n",
        "\n",
        "if \"0\" not in n:\n",
        "    print(-1)\n",
        "\n",
        "else:\n",
        "    num_sum = 0\n",
        "    for i in range(len(n)):\n",
        "        num_sum += int(n[i])\n",
        "\n",
        "    if num_sum % 3 != 0:\n",
        "        print(-1)\n",
        "    \n",
        "    else:\n",
        "        sorted_num = sorted(n, reverse=True)\n",
        "        answer = \"\".join(sorted_num)\n",
        "        print(answer)"
      ],
      "metadata": {
        "id": "08gBfHtftoc_"
      },
      "execution_count": null,
      "outputs": []
    },
    {
      "cell_type": "markdown",
      "source": [
        "# competition or intern"
      ],
      "metadata": {
        "id": "jmI6bTaz3wXA"
      }
    },
    {
      "cell_type": "markdown",
      "source": [
        "1차 풀이"
      ],
      "metadata": {
        "id": "Z-D2eNL7JPq4"
      }
    },
    {
      "cell_type": "code",
      "source": [
        "n,m,k=map(int, input().split())\n",
        "count=0\n",
        "for _ in range(n):\n",
        "     total=n+m\n",
        "     if n>0 and m>0 and total>=2*k:\n",
        "        n-=2\n",
        "        m-=1\n",
        "        count+=1\n",
        "print(count)"
      ],
      "metadata": {
        "colab": {
          "base_uri": "https://localhost:8080/"
        },
        "id": "VlIhFHx931Ne",
        "outputId": "6a7a9d13-81ce-4eab-f746-d515d00baceb"
      },
      "execution_count": null,
      "outputs": [
        {
          "output_type": "stream",
          "name": "stdout",
          "text": [
            "6 3 2\n",
            "2\n"
          ]
        }
      ]
    },
    {
      "cell_type": "markdown",
      "source": [
        "문제점:오류인 케이스 존재가능<br>total값만 맞추지 말고 n,m도 고려했어야 한다. "
      ],
      "metadata": {
        "id": "hNROhbZfJRwZ"
      }
    },
    {
      "cell_type": "code",
      "source": [
        "n, m, k = map(int, input().split())\t# n 여학생 수, m 남학생 수, k 인턴쉽 학생 수\n",
        "result = 0\n",
        "\n",
        "while n >= 2 and m >= 1 and n + m >= k + 3:\t# 2명 , 1명 팀 만들 수 있고, 인턴쉽도 보낼 수 있는 수 일때\n",
        "    n -= 2\t# 빼주고\n",
        "    m -= 1\t# 빼주고\n",
        "    result += 1\t# 팀 수는 하나씩 더해준다\n",
        "print(result)                                                                                                                                                                                        "
      ],
      "metadata": {
        "id": "1qoLGFUr8fcE"
      },
      "execution_count": null,
      "outputs": []
    },
    {
      "cell_type": "markdown",
      "source": [
        "#everybody's marble"
      ],
      "metadata": {
        "id": "2yoW_F4gK-98"
      }
    },
    {
      "cell_type": "code",
      "source": [
        "n=int(input())\n",
        "Li=list(map(int, input().split()))\n",
        "Li.sort(reverse=True)\n",
        "s=0\n",
        "for j in range(1,n):\n",
        "    s+=(Li[0]+Li[j])\n",
        "print(s)"
      ],
      "metadata": {
        "colab": {
          "base_uri": "https://localhost:8080/"
        },
        "id": "poGePp51L8N5",
        "outputId": "ae5b69ec-fc6c-4884-f7ce-cdf62f7ae224"
      },
      "execution_count": null,
      "outputs": [
        {
          "output_type": "stream",
          "name": "stdout",
          "text": [
            "3\n",
            "30 40 50\n",
            "170\n"
          ]
        }
      ]
    },
    {
      "cell_type": "markdown",
      "source": [
        "#Camping"
      ],
      "metadata": {
        "id": "-naUYg2kPvnL"
      }
    },
    {
      "cell_type": "markdown",
      "source": [
        "백준에서는 틀렸다고 하는데 이유를 모르겠음..."
      ],
      "metadata": {
        "id": "UOd7hQBER-tL"
      }
    },
    {
      "cell_type": "code",
      "source": [
        "l,p,v=map(int, input().split())\n",
        "count=(v//p)*l+v%p\n",
        "print(count)"
      ],
      "metadata": {
        "id": "qoEN790yMU-x"
      },
      "execution_count": null,
      "outputs": []
    },
    {
      "cell_type": "markdown",
      "source": [
        "#Missing bracket"
      ],
      "metadata": {
        "id": "7Ffz-MH1SFK-"
      }
    },
    {
      "cell_type": "markdown",
      "source": [
        "-기준으로 괄호를 치면 된다는 아이디어를 떠올려야 한다!<br>다시풀기!"
      ],
      "metadata": {
        "id": "Nk2_8a5oTY3X"
      }
    },
    {
      "cell_type": "code",
      "source": [
        "arr = input().split('-')\n",
        "s = 0\n",
        "for i in arr[0].split('+'):\n",
        "    s += int(i)\n",
        "for i in arr[1:]:\n",
        "    for j in i.split('+'):\n",
        "        s -= int(j)\n",
        "print(s)"
      ],
      "metadata": {
        "colab": {
          "base_uri": "https://localhost:8080/"
        },
        "id": "hcbUXCfSSMBU",
        "outputId": "796fe66b-29c4-41f6-e2f6-5d198825d0a8"
      },
      "execution_count": null,
      "outputs": [
        {
          "output_type": "stream",
          "name": "stdout",
          "text": [
            "33-30\n",
            "3\n"
          ]
        }
      ]
    },
    {
      "cell_type": "markdown",
      "source": [
        "#New Recruit"
      ],
      "metadata": {
        "id": "PkS5wZpqXveg"
      }
    },
    {
      "cell_type": "markdown",
      "source": [
        "질문하기..."
      ],
      "metadata": {
        "id": "KXRqbRpHfNSd"
      }
    },
    {
      "cell_type": "code",
      "source": [
        "t=int(input())\n",
        "n=int(input())\n",
        "grade=[]\n",
        "count=0\n",
        "for i in range(n):\n",
        "  Paper, Interview = map(int,input().split())\n",
        "  grade.append([Paper, Interview])\n",
        "grade = sorted(grade, key=lambda a: a[0]) \n",
        "grade = sorted(grade, key=lambda a: a[1])\n",
        "for i,j in grade:\n",
        "  if i==min(grade[Paper]):\n",
        "    count+=1\n",
        "  if i!=min(grade[Paper]) and j==min(grade[Interview]):\n",
        "    count+=1\n",
        "print(count)\n"
      ],
      "metadata": {
        "colab": {
          "base_uri": "https://localhost:8080/"
        },
        "id": "wvpyZMvUWpvI",
        "outputId": "46dc4d97-4808-44c0-f6c1-26d6b89c9ba5"
      },
      "execution_count": null,
      "outputs": [
        {
          "output_type": "stream",
          "name": "stdout",
          "text": [
            "2\n",
            "3\n",
            "4 1\n",
            "2 3\n",
            "1 2\n",
            "1\n"
          ]
        }
      ]
    },
    {
      "cell_type": "markdown",
      "source": [
        "#Classroom"
      ],
      "metadata": {
        "id": "DOjoojeyfSNy"
      }
    },
    {
      "cell_type": "markdown",
      "source": [
        "내일 다시 접근해보기"
      ],
      "metadata": {
        "id": "W0kTjoNcCvb-"
      }
    },
    {
      "cell_type": "code",
      "source": [
        "N = int(input())\n",
        "time = []\n",
        "\n",
        "for _ in range(N):\n",
        "  start, end = map(int, input().split())\n",
        "  time.append([start, end])\n",
        "time = sorted(time, key=lambda a: a[0]) # 시작 시간을 기준으로 오름차순\n",
        "time = sorted(time, key=lambda a: a[1]) # 끝나는 시간을 기준으로 다시 오름차순"
      ],
      "metadata": {
        "id": "WEwi5wwqkbA0"
      },
      "execution_count": null,
      "outputs": []
    },
    {
      "cell_type": "markdown",
      "source": [
        "#rope"
      ],
      "metadata": {
        "id": "xFeNbKXSCx6i"
      }
    },
    {
      "cell_type": "markdown",
      "source": [
        "w = min( 병렬 연결된 로프의 중량 ) * 병렬 연결된 로프의 수라는 아이디어를 떠올리는 것이 중요하다. \n",
        "그리고 n개의 case를 따져볼려고 하는 것도 중요"
      ],
      "metadata": {
        "id": "nAVDo-2RE9H_"
      }
    },
    {
      "cell_type": "code",
      "source": [
        "n=int(input())\n",
        "rope=[]\n",
        "value=[]\n",
        "for i in range(n):\n",
        "  rope.append(int(input()))\n",
        "rope.sort(reverse=True)\n",
        "for num in range(n):\n",
        "  value.append(rope[num]*(num+1))\n",
        "print(max(value))\n"
      ],
      "metadata": {
        "colab": {
          "base_uri": "https://localhost:8080/"
        },
        "id": "NMDxEfgZCz5c",
        "outputId": "fff9fda4-60c8-4b23-8cf0-fb580bf81a9e"
      },
      "execution_count": null,
      "outputs": [
        {
          "output_type": "stream",
          "name": "stdout",
          "text": [
            "3\n",
            "10\n",
            "15\n",
            "20\n",
            "30\n"
          ]
        }
      ]
    },
    {
      "cell_type": "code",
      "source": [
        ""
      ],
      "metadata": {
        "id": "v0KTloo4GmTF"
      },
      "execution_count": null,
      "outputs": []
    }
  ]
}